{
 "cells": [
  {
   "cell_type": "code",
   "execution_count": 1,
   "metadata": {},
   "outputs": [],
   "source": [
    "import numpy as np\n",
    "import pandas as pd"
   ]
  },
  {
   "cell_type": "code",
   "execution_count": 2,
   "metadata": {},
   "outputs": [
    {
     "name": "stdout",
     "output_type": "stream",
     "text": [
      "x1 is : 0.0\n",
      "x2 is : -1.0\n",
      "x3 is : 1.0\n"
     ]
    }
   ],
   "source": [
    "c = np.array([[1,2,3,1],[4,5,6,1],[1,0,1,1]])\n",
    "x = np.ones(3)\n",
    "n = len(c)\n",
    "for i in range(0,n):\n",
    "    for j in range((i+1),n):\n",
    "        c[j] = c[j]-(c[i]*(c[j][i])/(c[i][i]))\n",
    "        \n",
    "\n",
    "for i in range(n-1,-1,-1):\n",
    "    y = 0\n",
    "    for j in range(n-1,-1,-1):\n",
    "        if i != j:\n",
    "            if i < j:\n",
    "                y = y + ((c[i][j]) * x[j])\n",
    "            else:\n",
    "                y = y + c[i][j]\n",
    "    y = c[i][3] - y\n",
    "    x[i] = y / c[i][i]\n",
    "\n",
    "    \n",
    "for i in range(0,int(len(x))):\n",
    "    print(f\"x{i+1} is :\", round(x[i],5))"
   ]
  },
  {
   "cell_type": "code",
   "execution_count": null,
   "metadata": {},
   "outputs": [],
   "source": []
  }
 ],
 "metadata": {
  "kernelspec": {
   "display_name": "Python 3",
   "language": "python",
   "name": "python3"
  },
  "language_info": {
   "codemirror_mode": {
    "name": "ipython",
    "version": 3
   },
   "file_extension": ".py",
   "mimetype": "text/x-python",
   "name": "python",
   "nbconvert_exporter": "python",
   "pygments_lexer": "ipython3",
   "version": "3.7.4"
  }
 },
 "nbformat": 4,
 "nbformat_minor": 2
}
