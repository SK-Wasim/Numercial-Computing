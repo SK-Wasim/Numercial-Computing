{
 "cells": [
  {
   "cell_type": "code",
   "execution_count": 17,
   "metadata": {},
   "outputs": [
    {
     "name": "stdout",
     "output_type": "stream",
     "text": [
      "Enter Error: 0.01\n",
      "Enter A Value: 1\n",
      "Enter B Value: 1\n",
      "Intermediate Theoram could apply because one of the function of value should return positive and other negative\n",
      "Enter A Value: -2\n",
      "Enter B Value: 2\n"
     ]
    },
    {
     "data": {
      "text/html": [
       "<div>\n",
       "<style scoped>\n",
       "    .dataframe tbody tr th:only-of-type {\n",
       "        vertical-align: middle;\n",
       "    }\n",
       "\n",
       "    .dataframe tbody tr th {\n",
       "        vertical-align: top;\n",
       "    }\n",
       "\n",
       "    .dataframe thead th {\n",
       "        text-align: right;\n",
       "    }\n",
       "</style>\n",
       "<table border=\"1\" class=\"dataframe\">\n",
       "  <thead>\n",
       "    <tr style=\"text-align: right;\">\n",
       "      <th></th>\n",
       "      <th>A</th>\n",
       "      <th>B</th>\n",
       "      <th>C</th>\n",
       "      <th>F(A)</th>\n",
       "      <th>F(B)</th>\n",
       "      <th>F(C)</th>\n",
       "      <th>Error</th>\n",
       "    </tr>\n",
       "  </thead>\n",
       "  <tbody>\n",
       "    <tr>\n",
       "      <th>0</th>\n",
       "      <td>-2.0</td>\n",
       "      <td>2.0</td>\n",
       "      <td>0.231</td>\n",
       "      <td>-29.0</td>\n",
       "      <td>23.0</td>\n",
       "      <td>-2.732</td>\n",
       "      <td>0.231</td>\n",
       "    </tr>\n",
       "  </tbody>\n",
       "</table>\n",
       "</div>"
      ],
      "text/plain": [
       "     A    B      C  F(A)  F(B)   F(C)  Error\n",
       "0 -2.0  2.0  0.231 -29.0  23.0 -2.732  0.231"
      ]
     },
     "execution_count": 17,
     "metadata": {},
     "output_type": "execute_result"
    }
   ],
   "source": [
    "import numpy as np\n",
    "import pandas as pd\n",
    "import matplotlib.pyplot as plt\n",
    "\n",
    "count =0\n",
    "df = pd.DataFrame(columns=['A','B','C','F(A)','F(B)','F(C)','Error'])\n",
    "\n",
    "def f(x):\n",
    "    return 3*(x**3)+(x)-3\n",
    "\n",
    "def regulafalsi(a,b,ffa,ffb):\n",
    "    return ((ffa*b) - (ffb*a))/(ffa-ffb)\n",
    "\n",
    "Tresh = float(input(\"Enter Error: \"))\n",
    "while True:\n",
    "    a = float(input(\"Enter A Value: \"))\n",
    "    num1 =a\n",
    "    b = float(input(\"Enter B Value: \"))\n",
    "    num2 = b\n",
    "    ffa = f(a)\n",
    "    ffb = f(b)\n",
    "    if ((ffa*ffb)>0):\n",
    "        print(\"Intermediate Theoram could apply because one of the function of value should return positive and other negative\")\n",
    "    else:\n",
    "        break\n",
    "\n",
    "cold = 0\n",
    "while True:\n",
    "    ffa = f(a)\n",
    "    ffb = f(b)\n",
    "    cnew = regulafalsi(a,b,ffa,ffb)\n",
    "    df.loc[count] = [a,b,cnew,f(a),f(b),f(cnew),(cnew-cold)]\n",
    "    if (f(c) * f(a))>0:\n",
    "        a = c\n",
    "    else:\n",
    "        b = c\n",
    "    count = count+1\n",
    "    cold = cnew\n",
    "    if np.abs(float(cnew-cold)) <= Tresh:\n",
    "        break\n",
    "        \n",
    "\n",
    "df.round(3)"
   ]
  },
  {
   "cell_type": "code",
   "execution_count": 16,
   "metadata": {},
   "outputs": [
    {
     "data": {
      "image/png": "[encoded data removed]",
      "text/plain": [
       "<Figure size 432x288 with 1 Axes>"
      ]
     },
     "metadata": {
      "needs_background": "light"
     },
     "output_type": "display_data"
    }
   ],
   "source": [
    "x = np.linspace(start=num1, stop=num2)\n",
    "y = f(x)\n",
    "plt.plot(x, y)\n",
    "plt.grid()\n",
    "plt.scatter(c, f(c), color=\"red\", marker=\"x\")\n",
    "plt.show()"
   ]
  },
  {
   "cell_type": "code",
   "execution_count": null,
   "metadata": {},
   "outputs": [],
   "source": []
  }
 ],
 "metadata": {
  "kernelspec": {
   "display_name": "Python 3",
   "language": "python",
   "name": "python3"
  },
  "language_info": {
   "codemirror_mode": {
    "name": "ipython",
    "version": 3
   },
   "file_extension": ".py",
   "mimetype": "text/x-python",
   "name": "python",
   "nbconvert_exporter": "python",
   "pygments_lexer": "ipython3",
   "version": "3.7.3"
  }
 },
 "nbformat": 4,
 "nbformat_minor": 2
}
