{
 "cells": [
  {
   "cell_type": "code",
   "execution_count": 1,
   "metadata": {},
   "outputs": [],
   "source": [
    "import numpy as np\n",
    "import pandas as pd"
   ]
  },
  {
   "cell_type": "code",
   "execution_count": 4,
   "metadata": {},
   "outputs": [
    {
     "name": "stdout",
     "output_type": "stream",
     "text": [
      "x1 is : 0.2904761904761916\n",
      "x2 is : 19.690476190476172\n",
      "x3 is : 1.0857142857143551\n"
     ]
    }
   ],
   "source": [
    "c = np.array([[25,5,1,106.8],[64,8,1,177.2],[144,12,1,279.2]])\n",
    "x = np.ones(3)\n",
    "n = len(c)\n",
    "\n",
    "for i in range(0,n):\n",
    "    c[i] = c[i] / c[i][i]\n",
    "    for j in range(0,n):\n",
    "        if i != j:\n",
    "            c[j] = c[j] - c[j][i] * c[i]\n",
    "            \n",
    "for i in range(0,n):\n",
    "    print(f\"x{i+1} is :\",c[i][3])"
   ]
  },
  {
   "cell_type": "code",
   "execution_count": null,
   "metadata": {},
   "outputs": [],
   "source": []
  }
 ],
 "metadata": {
  "kernelspec": {
   "display_name": "Python 3",
   "language": "python",
   "name": "python3"
  },
  "language_info": {
   "codemirror_mode": {
    "name": "ipython",
    "version": 3
   },
   "file_extension": ".py",
   "mimetype": "text/x-python",
   "name": "python",
   "nbconvert_exporter": "python",
   "pygments_lexer": "ipython3",
   "version": "3.7.4"
  }
 },
 "nbformat": 4,
 "nbformat_minor": 2
}
