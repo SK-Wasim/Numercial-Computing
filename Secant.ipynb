{
 "cells": [
  {
   "cell_type": "code",
   "execution_count": 1,
   "metadata": {},
   "outputs": [
    {
     "name": "stdout",
     "output_type": "stream",
     "text": [
      "Enter 1st Guess2\n",
      "Enter 2nd Guess3\n",
      "Enter Tolerance0.001\n"
     ]
    },
    {
     "data": {
      "text/html": [
       "<div>\n",
       "<style scoped>\n",
       "    .dataframe tbody tr th:only-of-type {\n",
       "        vertical-align: middle;\n",
       "    }\n",
       "\n",
       "    .dataframe tbody tr th {\n",
       "        vertical-align: top;\n",
       "    }\n",
       "\n",
       "    .dataframe thead th {\n",
       "        text-align: right;\n",
       "    }\n",
       "</style>\n",
       "<table border=\"1\" class=\"dataframe\">\n",
       "  <thead>\n",
       "    <tr style=\"text-align: right;\">\n",
       "      <th></th>\n",
       "      <th>Xi-1</th>\n",
       "      <th>Xi</th>\n",
       "      <th>Xi+1</th>\n",
       "      <th>Error</th>\n",
       "    </tr>\n",
       "  </thead>\n",
       "  <tbody>\n",
       "    <tr>\n",
       "      <td>1</td>\n",
       "      <td>2.000000</td>\n",
       "      <td>3.000000</td>\n",
       "      <td>0.390397</td>\n",
       "      <td>2.609603</td>\n",
       "    </tr>\n",
       "    <tr>\n",
       "      <td>2</td>\n",
       "      <td>3.000000</td>\n",
       "      <td>0.390397</td>\n",
       "      <td>0.595558</td>\n",
       "      <td>0.205160</td>\n",
       "    </tr>\n",
       "    <tr>\n",
       "      <td>3</td>\n",
       "      <td>0.390397</td>\n",
       "      <td>0.595558</td>\n",
       "      <td>0.625805</td>\n",
       "      <td>0.030247</td>\n",
       "    </tr>\n",
       "    <tr>\n",
       "      <td>4</td>\n",
       "      <td>0.595558</td>\n",
       "      <td>0.625805</td>\n",
       "      <td>0.624174</td>\n",
       "      <td>0.001630</td>\n",
       "    </tr>\n",
       "    <tr>\n",
       "      <td>5</td>\n",
       "      <td>0.625805</td>\n",
       "      <td>0.624174</td>\n",
       "      <td>0.624185</td>\n",
       "      <td>0.000010</td>\n",
       "    </tr>\n",
       "  </tbody>\n",
       "</table>\n",
       "</div>"
      ],
      "text/plain": [
       "       Xi-1        Xi      Xi+1     Error\n",
       "1  2.000000  3.000000  0.390397  2.609603\n",
       "2  3.000000  0.390397  0.595558  0.205160\n",
       "3  0.390397  0.595558  0.625805  0.030247\n",
       "4  0.595558  0.625805  0.624174  0.001630\n",
       "5  0.625805  0.624174  0.624185  0.000010"
      ]
     },
     "execution_count": 1,
     "metadata": {},
     "output_type": "execute_result"
    }
   ],
   "source": [
    "import numpy as np\n",
    "import pandas as pd\n",
    "import math as mt\n",
    "\n",
    "df = pd.DataFrame(columns=['Xi-1','Xi','Xi+1','Error'])\n",
    "def f(x):\n",
    "    return mt.cos(x)-(1.3*x)\n",
    "\n",
    "def secant():\n",
    "    count = 0\n",
    "    a= np.zeros(20)\n",
    "    a[0] = int(input(\"Enter 1st Guess\"))\n",
    "    a[1] = int(input(\"Enter 2nd Guess\"))\n",
    "    tol = float(input(\"Enter Tolerance\"))\n",
    "    for i in range(1,20):\n",
    "        count = count +1\n",
    "        a[i+1] = a[i]-(f(a[i])*(a[i]-a[i-1])/(f(a[i])-f(a[i-1])))\n",
    "        error = np.abs(a[i+1]-a[i])\n",
    "        df.loc[count] = [a[i-1],a[i],a[i+1],error]\n",
    "        if error <= tol:\n",
    "            break\n",
    "            \n",
    "secant()\n",
    "df"
   ]
  },
  {
   "cell_type": "code",
   "execution_count": null,
   "metadata": {},
   "outputs": [],
   "source": []
  }
 ],
 "metadata": {
  "kernelspec": {
   "display_name": "Python 3",
   "language": "python",
   "name": "python3"
  },
  "language_info": {
   "codemirror_mode": {
    "name": "ipython",
    "version": 3
   },
   "file_extension": ".py",
   "mimetype": "text/x-python",
   "name": "python",
   "nbconvert_exporter": "python",
   "pygments_lexer": "ipython3",
   "version": "3.7.4"
  }
 },
 "nbformat": 4,
 "nbformat_minor": 2
}
